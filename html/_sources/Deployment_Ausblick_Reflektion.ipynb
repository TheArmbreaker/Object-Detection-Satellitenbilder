{
 "cells": [
  {
   "cell_type": "markdown",
   "metadata": {},
   "source": [
    "# Deployment - Ausblick und Reflektion"
   ]
  },
  {
   "cell_type": "markdown",
   "metadata": {},
   "source": [
    "Grundsätzlich wurde gezeigt, dass Satellitenbilder mittels Object Detection ausgewertet werden können.\n",
    "\n",
    "Obwohl in der Modellierung gut zwischen Flugzeugen und Helikoptern unterschieden werden konnte, haben sich beim Deployment ein paar Fehlklassifikation ergeben.\n",
    "Das Proof of Concept Modell hat teilweise keine Detectionen ausgegeben, wo SAHI Teilbestände detektiert hat.\n",
    "\n",
    "Bezugnehmend auf die Confusion Matrix von Modell 13, sollte noch mehr in Richtung True Positive trainiert werde.\n",
    "Dies bedarf wesentlich mehr Daten (Bilder und Instanzen), welche zum Beispiel durch 3D-Modellierung erzeugt werden können. Im Abschnitt zum Tarnkappenbomber wurde eine vereinfachte Umsetzung aufgezeigt.\n",
    "\n",
    "Im Hinblick auf das Eingangs erwähnte Airbus-Produkt, erscheint ein intensiveres und spezifischeres Training als zielführend.\n",
    "\n",
    "Eine zusätzliche Zeitdimension könnte zur Darstellung von Veränderungen verwendet werden. Eine Anwendung als Frühwarnindikator ist insofern vorstellbar, dass Gebiete ohne Überdachungen überwacht werden können. Dies zeigt sich ins besondere bei den in der Introduction dargestellten Szenarien, wie etwa die Häufung von Kampfhubschraubern an der Grenze zur Ukraine. Zu bemängeln ist also, dass weitere Fluggeräte in Hallen oder unter Abdeckungen stehen könnten und damit für das Modell unsichtbar sind. Solche Auswertungen lassen sich auch durch Aufstellen von Attrappen beeinflussen {cite:p}`msn`.\n",
    "\n",
    "In der Praxis könnte Bildmaterial, welches durch Drohnen aufgenommen wurde, zusätzliche domänenspezifische Merkmale auswertbar machen. Eventuell lassen sich Attrappen mit Hilfe von Wärmebildkameras herausfiltern. Interessant ist der Umgang mit Signatur verschleiernder Technologie, wie beispielsweise das *Saab Baracuda CoolCam*, welches bereits an Großgerät wie Kampfpanzern und Schiffen angebracht wird {cite:p}`Saab`.\n",
    "\n",
    "```{figure} nb_images/mil_equip/stealth_plain.jpg\n",
    "---\n",
    "name: plain_stealth_model\n",
    "---\n",
    "3D-gedrucktes Modell mit Erkennung\n",
    "```"
   ]
  }
 ],
 "metadata": {
  "kernelspec": {
   "display_name": "Python 3.9.12 ('base')",
   "language": "python",
   "name": "python3"
  },
  "language_info": {
   "name": "python",
   "version": "3.9.12"
  },
  "orig_nbformat": 4,
  "vscode": {
   "interpreter": {
    "hash": "9b8dfdb05e476a0fb0e450349f9b76abd6ac1559882404eeba22108e759c936b"
   }
  }
 },
 "nbformat": 4,
 "nbformat_minor": 2
}
